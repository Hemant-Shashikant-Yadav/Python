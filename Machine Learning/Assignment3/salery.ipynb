{
 "cells": [
  {
   "cell_type": "code",
   "execution_count": null,
   "id": "8e81d7ec",
   "metadata": {},
   "outputs": [],
   "source": [
    "import pandas as pd\n",
    "\n",
    "# 1. Read the file as a dataframe called sal\n",
    "s = pd.read_csv('Salaries.csv')\n",
    "\n",
    "# 2. Check the header of the DataFrame\n",
    "print(s.head())\n",
    "\n",
    "# 3. Use the .info() method to find out how many entries there are\n",
    "print(s.info())\n",
    "\n",
    "# 4. What is the average BasePay?\n",
    "avg= s['BasePay'].mean()\n",
    "print(\"Average BasePay:\", avg)\n",
    "\n",
    "# 5. What is the highest amount of OvertimePay in the dataset?\n",
    "maximum = s['OvertimePay'].max()\n",
    "print(\"Highest OvertimePay:\", maximum)\n",
    "\n",
    "# 6. What is the job title of JOSEPH DRISCOLL?\n",
    "job = s[s['EmployeeName'] == 'JOSEPH DRISCOLL']['JobTitle'].iloc[0]\n",
    "print(\"Job Title:\", job)\n",
    "\n",
    "# 7. How much does JOSEPH DRISCOLL make (including benefits)?\n",
    "total= s[s['EmployeeName'] == 'JOSEPH DRISCOLL']['TotalPayBenefits'].iloc[0]\n",
    "print(\"Total pay of JOSEPH DRISCOLL :\", total)\n",
    "\n",
    "# 8. How many unique job titles are there?\n",
    "unique_count = s['JobTitle'].nunique()\n",
    "print(unique_count)\n",
    "\n",
    "# 9. What are the top 5 most common jobs?\n",
    "top= s['JobTitle'].value_counts().head(5)\n",
    "print(top)\n"
   ]
  }
 ],
 "metadata": {
  "kernelspec": {
   "display_name": "Python 3 (ipykernel)",
   "language": "python",
   "name": "python3"
  },
  "language_info": {
   "codemirror_mode": {
    "name": "ipython",
    "version": 3
   },
   "file_extension": ".py",
   "mimetype": "text/x-python",
   "name": "python",
   "nbconvert_exporter": "python",
   "pygments_lexer": "ipython3",
   "version": "3.11.5"
  }
 },
 "nbformat": 4,
 "nbformat_minor": 5
}
