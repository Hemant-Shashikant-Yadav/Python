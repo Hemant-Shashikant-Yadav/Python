{
 "cells": [
  {
   "cell_type": "markdown",
   "metadata": {},
   "source": [
    "# Numpy\n"
   ]
  },
  {
   "cell_type": "code",
   "execution_count": 1,
   "metadata": {},
   "outputs": [],
   "source": [
    "#1\n",
    "import numpy as np"
   ]
  },
  {
   "cell_type": "code",
   "execution_count": 2,
   "metadata": {},
   "outputs": [
    {
     "name": "stdout",
     "output_type": "stream",
     "text": [
      "1.26.4\n",
      "ModuleSpec(name='numpy', loader=<_frozen_importlib_external.SourceFileLoader object at 0x0000019ACFEACED0>, origin='c:\\\\Users\\\\heman\\\\.conda\\\\envs\\\\notebook\\\\Lib\\\\site-packages\\\\numpy\\\\__init__.py', submodule_search_locations=['c:\\\\Users\\\\heman\\\\.conda\\\\envs\\\\notebook\\\\Lib\\\\site-packages\\\\numpy'])\n"
     ]
    }
   ],
   "source": [
    "#2\n",
    "print(np.__version__)\n",
    "print(np.__spec__)"
   ]
  },
  {
   "cell_type": "code",
   "execution_count": 3,
   "metadata": {},
   "outputs": [
    {
     "name": "stdout",
     "output_type": "stream",
     "text": [
      "[0. 0. 0. 0. 0. 0. 0. 0. 0. 0. 0. 0. 0. 0. 0. 0. 0. 0. 0. 0.]\n"
     ]
    }
   ],
   "source": [
    "#3\n",
    "a = np.zeros(20)\n",
    "print(a)"
   ]
  },
  {
   "cell_type": "code",
   "execution_count": 4,
   "metadata": {},
   "outputs": [
    {
     "name": "stdout",
     "output_type": "stream",
     "text": [
      "[0. 0. 0. 0. 1. 0. 0. 0. 0. 0.]\n",
      "[0 0 0 0 1 0 0 0 0 0]\n"
     ]
    }
   ],
   "source": [
    "#4\n",
    "b = np.zeros(10)\n",
    "b[4]=1\n",
    "print(b)\n",
    "c= (np.arange(10)==4).astype(int)\n",
    "print(c)"
   ]
  },
  {
   "cell_type": "code",
   "execution_count": 5,
   "metadata": {},
   "outputs": [
    {
     "name": "stdout",
     "output_type": "stream",
     "text": [
      "[10 11 12 13 14 15 16 17 18 19 20 21 22 23 24 25 26 27 28 29 30 31 32 33\n",
      " 34 35 36 37 38 39 40 41 42 43 44 45 46 47 48 49]\n"
     ]
    }
   ],
   "source": [
    "#5\n",
    "d = np.arange(10,50) #First inclusive last exclusive\n",
    "print(d)\n"
   ]
  },
  {
   "cell_type": "code",
   "execution_count": 6,
   "metadata": {},
   "outputs": [
    {
     "data": {
      "text/plain": [
       "array([49, 48, 47, 46, 45, 44, 43, 42, 41, 40, 39, 38, 37, 36, 35, 34, 33,\n",
       "       32, 31, 30, 29, 28, 27, 26, 25, 24, 23, 22, 21, 20, 19, 18, 17, 16,\n",
       "       15, 14, 13, 12, 11, 10])"
      ]
     },
     "execution_count": 6,
     "metadata": {},
     "output_type": "execute_result"
    }
   ],
   "source": [
    "#6\n",
    "e = np.flip(d)\n",
    "e"
   ]
  },
  {
   "cell_type": "code",
   "execution_count": 7,
   "metadata": {},
   "outputs": [
    {
     "data": {
      "text/plain": [
       "array([[0., 0., 0.],\n",
       "       [0., 0., 0.],\n",
       "       [0., 0., 0.],\n",
       "       [0., 0., 0.]])"
      ]
     },
     "execution_count": 7,
     "metadata": {},
     "output_type": "execute_result"
    }
   ],
   "source": [
    "#7\n",
    "f = np.zeros(shape=(4,3))\n",
    "f"
   ]
  },
  {
   "cell_type": "code",
   "execution_count": 8,
   "metadata": {},
   "outputs": [
    {
     "data": {
      "text/plain": [
       "(array([2, 3, 5], dtype=int64),)"
      ]
     },
     "execution_count": 8,
     "metadata": {},
     "output_type": "execute_result"
    }
   ],
   "source": [
    "#8\n",
    "z = np.array( [1,2,0,0,4,0])\n",
    "\n",
    "np.where(z == 0)"
   ]
  },
  {
   "cell_type": "code",
   "execution_count": 11,
   "metadata": {},
   "outputs": [
    {
     "name": "stdout",
     "output_type": "stream",
     "text": [
      "[[1. 0. 0.]\n",
      " [0. 1. 0.]\n",
      " [0. 0. 1.]]\n"
     ]
    }
   ],
   "source": [
    "#9\n",
    "identity_matrix = np.eye(3)\n",
    "print(identity_matrix)"
   ]
  },
  {
   "cell_type": "code",
   "execution_count": 15,
   "metadata": {},
   "outputs": [
    {
     "name": "stdout",
     "output_type": "stream",
     "text": [
      "[[[0.15205437 0.32716415 0.13378848]\n",
      "  [0.97249945 0.45942794 0.82045324]\n",
      "  [0.34695048 0.67101626 0.28155655]]\n",
      "\n",
      " [[0.4093551  0.02523991 0.59717281]\n",
      "  [0.21962683 0.92258412 0.2568343 ]\n",
      "  [0.18995601 0.7854235  0.36164223]]\n",
      "\n",
      " [[0.26217498 0.84942831 0.54376264]\n",
      "  [0.4249035  0.4324498  0.49049657]\n",
      "  [0.7067488  0.67124526 0.5487271 ]]]\n"
     ]
    }
   ],
   "source": [
    "#10\n",
    "random_array = np.random.rand(3, 3, 3)\n",
    "print(random_array)"
   ]
  },
  {
   "cell_type": "code",
   "execution_count": 16,
   "metadata": {},
   "outputs": [
    {
     "name": "stdout",
     "output_type": "stream",
     "text": [
      "Minimum Value: 0.004315765567726837\n",
      "Maximum Value: 0.9802710613268646\n"
     ]
    }
   ],
   "source": [
    "#11\n",
    "arr = np.random.rand(10, 10)\n",
    "min_value = np.min(arr)\n",
    "max_value = np.max(arr)\n",
    "print(\"Minimum Value:\", min_value)\n",
    "print(\"Maximum Value:\", max_value)"
   ]
  },
  {
   "cell_type": "code",
   "execution_count": 17,
   "metadata": {},
   "outputs": [
    {
     "name": "stdout",
     "output_type": "stream",
     "text": [
      "Mean Value: 0.45563708616825505\n"
     ]
    }
   ],
   "source": [
    "#12\n",
    "v = np.random.rand(30)\n",
    "mean_value = np.mean(v)\n",
    "print(\"Mean Value:\", mean_value)"
   ]
  },
  {
   "cell_type": "code",
   "execution_count": 18,
   "metadata": {},
   "outputs": [
    {
     "name": "stdout",
     "output_type": "stream",
     "text": [
      "[[1. 1. 1. 1. 1.]\n",
      " [1. 0. 0. 0. 1.]\n",
      " [1. 0. 0. 0. 1.]\n",
      " [1. 0. 0. 0. 1.]\n",
      " [1. 1. 1. 1. 1.]]\n"
     ]
    }
   ],
   "source": [
    "#13\n",
    "b = np.ones((5, 5))\n",
    "b[1:-1, 1:-1] = 0\n",
    "print(b)"
   ]
  },
  {
   "cell_type": "code",
   "execution_count": 19,
   "metadata": {},
   "outputs": [
    {
     "name": "stdout",
     "output_type": "stream",
     "text": [
      "[[1. 0. 1. 0. 1. 0. 1. 0.]\n",
      " [0. 1. 0. 1. 0. 1. 0. 1.]\n",
      " [1. 0. 1. 0. 1. 0. 1. 0.]\n",
      " [0. 1. 0. 1. 0. 1. 0. 1.]\n",
      " [1. 0. 1. 0. 1. 0. 1. 0.]\n",
      " [0. 1. 0. 1. 0. 1. 0. 1.]\n",
      " [1. 0. 1. 0. 1. 0. 1. 0.]\n",
      " [0. 1. 0. 1. 0. 1. 0. 1.]]\n"
     ]
    }
   ],
   "source": [
    "#14\n",
    "c = np.zeros((8, 8))\n",
    "c[::2, ::2] = 1\n",
    "c[1::2, 1::2] = 1\n",
    "print(c)"
   ]
  },
  {
   "cell_type": "code",
   "execution_count": 20,
   "metadata": {},
   "outputs": [
    {
     "name": "stdout",
     "output_type": "stream",
     "text": [
      "[[0.22966324 0.14495969]\n",
      " [0.62038062 0.912657  ]\n",
      " [0.35950096 0.59613863]\n",
      " [0.28694829 0.34671395]\n",
      " [0.36846366 0.64118044]]\n"
     ]
    }
   ],
   "source": [
    "#15\n",
    "a = np.random.rand(5, 3)\n",
    "b = np.random.rand(3, 2)\n",
    "product_matrix = np.dot(a, b)\n",
    "print(product_matrix)\n"
   ]
  },
  {
   "cell_type": "code",
   "execution_count": 21,
   "metadata": {},
   "outputs": [
    {
     "name": "stdout",
     "output_type": "stream",
     "text": [
      "[ 1  2 -3 -4 -5 -6 -7 -8  9 10]\n"
     ]
    }
   ],
   "source": [
    "#16\n",
    "x = np.array([1, 2, 3, 4, 5, 6, 7, 8, 9, 10])\n",
    "x[(x >= 3) & (x <= 8)] *= -1\n",
    "print(x)"
   ]
  },
  {
   "cell_type": "code",
   "execution_count": 22,
   "metadata": {},
   "outputs": [
    {
     "name": "stdout",
     "output_type": "stream",
     "text": [
      "[0.0110932  0.02816647 0.47970287 0.5008804  0.55705401 0.62932559\n",
      " 0.74202012 0.8460591  0.86736109 0.9019428 ]\n"
     ]
    }
   ],
   "source": [
    "#17\n",
    "z = np.random.rand(10)\n",
    "z = np.sort(z)\n",
    "print(z)"
   ]
  },
  {
   "cell_type": "code",
   "execution_count": 25,
   "metadata": {},
   "outputs": [
    {
     "name": "stdout",
     "output_type": "stream",
     "text": [
      "[0.68333348 0.10165937 0.00947672 0.61906798 0.83063092 0.11004819\n",
      " 0.50926239 0.56824317 0.02198684 0.80687878]\n",
      "[0.68333348 0.10165937 0.00947672 0.61906798 0.         0.11004819\n",
      " 0.50926239 0.56824317 0.02198684 0.80687878]\n"
     ]
    }
   ],
   "source": [
    "#18\n",
    "q = np.random.rand(10)\n",
    "print(q)\n",
    "max_index = np.argmax(q)\n",
    "q[max_index] = 0\n",
    "print(q)"
   ]
  },
  {
   "cell_type": "code",
   "execution_count": 26,
   "metadata": {},
   "outputs": [],
   "source": [
    "#19\n",
    "prices = np.array([6999, 7500, 11999, 27899, 14999, 9999])"
   ]
  },
  {
   "cell_type": "code",
   "execution_count": 28,
   "metadata": {},
   "outputs": [
    {
     "name": "stdout",
     "output_type": "stream",
     "text": [
      "[ 6999.  7500. 11999. 27899. 14999.  9999.]\n"
     ]
    }
   ],
   "source": [
    "prices = prices.astype(float)\n",
    "print(prices)"
   ]
  },
  {
   "cell_type": "code",
   "execution_count": 29,
   "metadata": {},
   "outputs": [
    {
     "name": "stdout",
     "output_type": "stream",
     "text": [
      "[ 6999.  7500. 11999. 27899. 14999.  9999. 13999.]\n"
     ]
    }
   ],
   "source": [
    "prices = np.append(prices, 13999)\n",
    "print(prices)\n"
   ]
  },
  {
   "cell_type": "code",
   "execution_count": 30,
   "metadata": {},
   "outputs": [
    {
     "name": "stdout",
     "output_type": "stream",
     "text": [
      "[13999.  9999. 14999. 27899. 11999.  7500.  6999.]\n"
     ]
    }
   ],
   "source": [
    "prices = np.flip(prices)\n",
    "print(prices)\n"
   ]
  },
  {
   "cell_type": "code",
   "execution_count": 31,
   "metadata": {},
   "outputs": [
    {
     "name": "stdout",
     "output_type": "stream",
     "text": [
      "[16518.82 11798.82 17698.82 32920.82 14158.82  8850.    8258.82]\n"
     ]
    }
   ],
   "source": [
    "gst_rate = 0.18\n",
    "prices = prices * (1 + gst_rate)\n",
    "\n",
    "print(prices)"
   ]
  },
  {
   "cell_type": "code",
   "execution_count": 32,
   "metadata": {},
   "outputs": [
    {
     "name": "stdout",
     "output_type": "stream",
     "text": [
      "[32920.82 17698.82 16518.82 14158.82 11798.82  8850.    8258.82]\n"
     ]
    }
   ],
   "source": [
    "prices = np.sort(prices)[::-1]\n",
    "print(prices)"
   ]
  },
  {
   "cell_type": "code",
   "execution_count": 33,
   "metadata": {},
   "outputs": [
    {
     "name": "stdout",
     "output_type": "stream",
     "text": [
      "Average Price: 15743.560000000001\n"
     ]
    }
   ],
   "source": [
    "average_price = np.mean(prices)\n",
    "print(\"Average Price:\", average_price)\n"
   ]
  },
  {
   "cell_type": "code",
   "execution_count": 34,
   "metadata": {},
   "outputs": [
    {
     "name": "stdout",
     "output_type": "stream",
     "text": [
      "Price Difference: 24662.0\n"
     ]
    }
   ],
   "source": [
    "price_diff = np.max(prices) - np.min(prices)\n",
    "print(\"Price Difference:\", price_diff)"
   ]
  }
 ],
 "metadata": {
  "kernelspec": {
   "display_name": "notebook",
   "language": "python",
   "name": "python3"
  },
  "language_info": {
   "codemirror_mode": {
    "name": "ipython",
    "version": 3
   },
   "file_extension": ".py",
   "mimetype": "text/x-python",
   "name": "python",
   "nbconvert_exporter": "python",
   "pygments_lexer": "ipython3",
   "version": "3.11.7"
  }
 },
 "nbformat": 4,
 "nbformat_minor": 2
}
